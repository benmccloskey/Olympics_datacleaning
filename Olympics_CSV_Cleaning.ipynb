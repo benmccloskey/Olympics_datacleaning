{
 "cells": [
  {
   "cell_type": "markdown",
   "id": "a656db29",
   "metadata": {},
   "source": [
    "# Olympics CSV Data Cleaning"
   ]
  },
  {
   "cell_type": "code",
   "execution_count": 1,
   "id": "733699f2",
   "metadata": {},
   "outputs": [
    {
     "name": "stdout",
     "output_type": "stream",
     "text": [
      "olympics.csv already present\n"
     ]
    }
   ],
   "source": [
    "# snippet to download the data file the first time\n",
    "import os.path  # library for working with local directories\n",
    "\n",
    "filename = 'olympics.csv'\n",
    "url = r\"https://github.com/realpython/python-data-cleaning/raw/master/Datasets/olympics.csv\"\n",
    "\n",
    "if not os.path.isfile(filename):  # if filename doesn't exist in current directory...\n",
    "    import urllib.request  # library for making web requests\n",
    "    \n",
    "    # Download the file from `url` and save it locally under `filename`:\n",
    "    urllib.request.urlretrieve(url, filename)\n",
    "    print(filename, 'downloaded')\n",
    "    \n",
    "else:\n",
    "    print(filename, 'already present')"
   ]
  },
  {
   "cell_type": "markdown",
   "id": "50ce9854",
   "metadata": {},
   "source": [
    "The new CSV file should contain the following columns:\n",
    "\n",
    "0) `entry` - entry number (start at 1)\n",
    "\n",
    "1) `name` - country/team name, with no codes/abbreviations\n",
    "\n",
    "2) `code` - 3-letter/number country code, no parentheses\n",
    "\n",
    "3) `01 ! combined` - # first place finishes/gold medals in summer + winter combined\n",
    "\n",
    "4) `02 ! combined` - silver\n",
    "\n",
    "5) `03 ! combined` - bronze\n",
    "\n",
    "6) `? games` - total number of olympics (summer + winter combined)\n",
    "\n",
    "7) `winter` - *no* if the team has never played in a Winter Olympics, *yes* otherwise\n",
    "\n",
    "(8 columns in all)\n",
    " \n",
    "* teams should be sorted by their 3-letter/number code, *not* their full name\n",
    "\n",
    "\n",
    "Looking at a correct output file in a plain text editor, the first two rows should be as follows:\n",
    "\n",
    "`entry,name,code,01 ! combined,02 ! combined,03 ! combined,? games,winter\n",
    "1,Afghanistan,AFG,0,0,2,13,False`"
   ]
  },
  {
   "cell_type": "code",
   "execution_count": 7,
   "id": "e60131c4",
   "metadata": {},
   "outputs": [],
   "source": [
    "import pandas as pd\n",
    "import re\n",
    "pd.options.mode.chained_assignment = None # default='warn'\n",
    "\n",
    "def process_olympics_data(input_filename, output_filename='output.csv'):\n",
    "    \"\"\"Modifies the given 'olympics.csv' file into the specifications laid out above.\n",
    "       \n",
    "       Input: This def takes the name of the file to be modified, and the user specifies the name of the file it will output\n",
    "       \n",
    "       Returns: A csv file of the given specifications\n",
    "    \"\"\"\n",
    "    #sets the columns from the original csv that we care about\n",
    "    col_list = [\"0\",\"6\",\"11\",\"12\",\"13\",\"14\"]\n",
    "    #gives a new column name to importanted columns since we are removing the headers on import\n",
    "    new_col_list = [\"name\",\"winter\",\"? games\",\"01 ! combined\",\"02 ! combined\",\"03 ! combined\"]\n",
    "    #import and read the given csv file, uses the above objects to exactract only what is needed\n",
    "    csvf = pd.read_csv(input_filename, skiprows=2, skipfooter=1, usecols=[0,6,11,12,13,14], names=new_col_list)\n",
    "    csvf[\"entry\"] = range(1, len(csvf)+1)              #adds \"entry\" column and gives it a range\n",
    "    csvf[\"code\"] = range(1, len(csvf)+1)               #adds \"code\" column and gives it a notional range, replaced later\n",
    "\n",
    "    a = csvf['name']                                   #picks a column to use as an index for the loop, could be any column\n",
    "    for i in range(len(csvf)):\n",
    "        a_it = a[i]                                    #recreates a workable object each iteration\n",
    "        b_it = a_it.split(\" [\",1)[0]                   #splits each entry so that nothing after the country code is used\n",
    "\n",
    "        inp = re.findall((r\"\\((.*?)\\)\"), b_it)         #searches and displays the country code from inside the parenthesis\n",
    "        csvf[\"code\"][i]=inp[0]                         #places the country code in the code column\n",
    "\n",
    "        inp2 = re.sub(r\"(.*?)\\s?\\(.*?\\)\", r\"\\1\", b_it) #searches and displays the country name\n",
    "        csvf[\"name\"][i]=inp2[0:len(inp2)]              #places the country name in the names column\n",
    "\n",
    "        if int(csvf['winter'][i])>0:                   #this if/else replaces the winter numbers with no or yes based on\n",
    "            csvf['winter'][i] = \"True\"                 #whether the number was 0 or not.\n",
    "        else:                                          \n",
    "            csvf['winter'][i] = \"False\"\n",
    "\n",
    "        #rearrange the columns into the proper order\n",
    "        output = csvf[[\"entry\",\"name\",\"code\",\"01 ! combined\",\"02 ! combined\",\"03 ! combined\",\"? games\",\"winter\"]]\n",
    "    return output.to_csv('output.csv', index=False)"
   ]
  },
  {
   "cell_type": "code",
   "execution_count": 8,
   "id": "71f4985d",
   "metadata": {},
   "outputs": [],
   "source": [
    "process_olympics_data('olympics.csv')\n",
    "#Output file will be in the same directory as this file"
   ]
  }
 ],
 "metadata": {
  "kernelspec": {
   "display_name": "Python 3",
   "language": "python",
   "name": "python3"
  },
  "language_info": {
   "codemirror_mode": {
    "name": "ipython",
    "version": 3
   },
   "file_extension": ".py",
   "mimetype": "text/x-python",
   "name": "python",
   "nbconvert_exporter": "python",
   "pygments_lexer": "ipython3",
   "version": "3.8.3"
  }
 },
 "nbformat": 4,
 "nbformat_minor": 5
}
